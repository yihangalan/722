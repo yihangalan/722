{
 "cells": [
  {
   "cell_type": "code",
   "execution_count": 1,
   "id": "b7c13b12",
   "metadata": {},
   "outputs": [
    {
     "name": "stderr",
     "output_type": "stream",
     "text": [
      "WARNING: An illegal reflective access operation has occurred\n",
      "WARNING: Illegal reflective access by org.apache.spark.unsafe.Platform (file:/home/ubuntu/.local/lib/python3.10/site-packages/pyspark/jars/spark-unsafe_2.12-3.2.1.jar) to constructor java.nio.DirectByteBuffer(long,int)\n",
      "WARNING: Please consider reporting this to the maintainers of org.apache.spark.unsafe.Platform\n",
      "WARNING: Use --illegal-access=warn to enable warnings of further illegal reflective access operations\n",
      "WARNING: All illegal access operations will be denied in a future release\n",
      "Using Spark's default log4j profile: org/apache/spark/log4j-defaults.properties\n",
      "Setting default log level to \"WARN\".\n",
      "To adjust logging level use sc.setLogLevel(newLevel). For SparkR, use setLogLevel(newLevel).\n",
      "23/10/09 14:11:16 WARN NativeCodeLoader: Unable to load native-hadoop library for your platform... using builtin-java classes where applicable\n",
      "                                                                                \r"
     ]
    }
   ],
   "source": [
    "from pyspark.sql import SparkSession\n",
    "from pyspark.sql.functions import rand\n",
    "\n",
    "spark = SparkSession.builder.appName(\"dataSet\").getOrCreate()\n",
    "file = \"heart_2020_cleaned.csv\"\n",
    "df = spark.read.csv(file, header=True, inferSchema=True)\n",
    "\n",
    "columns_to_drop = [\"Race\", \"MentalHealth\", \"PhysicalHealth\"]\n",
    "df = df.drop(*columns_to_drop)\n",
    "\n",
    "from pyspark.sql.functions import stddev, mean, abs, col\n",
    "bmi_stats = df.select(mean(col(\"BMI\")).alias(\"mean_BMI\"), stddev(col(\"BMI\")).alias(\"stddev_BMI\")).first()\n",
    "mean_bmi = bmi_stats[\"mean_BMI\"]\n",
    "stddev_bmi = bmi_stats[\"stddev_BMI\"]\n",
    "sleep_time_stats = df.select(mean(col(\"SleepTime\")).alias(\"mean_SleepTime\"), stddev(col(\"SleepTime\")).alias(\"stddev_SleepTime\")).first()\n",
    "mean_sleep_time = sleep_time_stats[\"mean_SleepTime\"]\n",
    "stddev_sleep_time = sleep_time_stats[\"stddev_SleepTime\"]\n",
    "threshold = 3\n",
    "df = df.withColumn(\"z_score_BMI\", abs((col(\"BMI\") - mean_bmi) / stddev_bmi))\n",
    "df = df.withColumn(\"z_score_SleepTime\", abs((col(\"SleepTime\") - mean_sleep_time) / stddev_sleep_time))\n",
    "df = df.filter(col(\"z_score_BMI\") <= threshold)\n",
    "df = df.filter(col(\"z_score_SleepTime\") <= threshold)\n",
    "df = df.drop(\"z_score_BMI\", \"z_score_SleepTime\")\n",
    "\n",
    "df = df.dropna()\n",
    "\n",
    "from pyspark.sql import functions as F\n",
    "\n",
    "df = df.withColumn(\n",
    "    'BMI_Category',\n",
    "    F.when((df['BMI'] < 18.5), 'Low')\n",
    "    .when((df['BMI'] >= 18.5) & (df['BMI'] < 24.9), 'Normal')\n",
    "    .when((df['BMI'] >= 25.0) & (df['BMI'] < 29.9), 'Over')\n",
    "    .when((df['BMI'] >= 30.0) & (df['BMI'] < 34.9), 'ObeseI')\n",
    "    .when((df['BMI'] >= 35.0) & (df['BMI'] < 39.9), 'ObesityII')\n",
    "    .otherwise('ObesityIII')\n",
    ")\n",
    "from pyspark.sql import functions as F\n",
    "from pyspark.ml.feature import OneHotEncoder, StringIndexer\n",
    "from pyspark.ml import Pipeline\n",
    "\n",
    "binary_features = [\"HeartDisease\", \"AlcoholDrinking\", \"Stroke\", \"DiffWalking\", \"Smoking\", \"Diabetic\", \"PhysicalActivity\", \"Asthma\", \"KidneyDisease\", \"SkinCancer\"]\n",
    "\n",
    "for column in binary_features:\n",
    "    df = df.withColumn(column, F.when(df[column] == 'Yes', 1).otherwise(0))\n",
    "\n",
    "df = df.withColumn(\"Sex\", F.when(df[\"Sex\"] == \"Male\", 1).otherwise(0))\n",
    "\n",
    "df = df.withColumn(\"Diabetic\", F.when(df[\"Diabetic\"] == \"No, borderline diabetes\", 0).when(df[\"Diabetic\"] == \"Yes (during pregnancy)\", 1).otherwise(df[\"Diabetic\"]))\n",
    "\n",
    "\n",
    "string_indexer = StringIndexer(inputCol=\"BMI_Category\", outputCol=\"BMI_Category_Index\")\n",
    "model = string_indexer.fit(df)\n",
    "df = model.transform(df)\n",
    "\n",
    "string_indexer = StringIndexer(inputCol=\"AgeCategory\", outputCol=\"AgeCategory_Index\")\n",
    "model = string_indexer.fit(df)\n",
    "df = model.transform(df)\n",
    "\n",
    "string_indexer = StringIndexer(inputCol=\"GenHealth\", outputCol=\"GenHealth_Index\")\n",
    "model = string_indexer.fit(df)\n",
    "df = model.transform(df)\n",
    "\n",
    "columns_to_drop = [\"BMI_Category\", \"AgeCategory\", \"GenHealth\"]\n",
    "df = df.drop(*columns_to_drop)\n",
    "\n",
    "df_high = df.filter(df[\"HeartDisease\"] == 0)\n",
    "df_low = df.filter(df[\"HeartDisease\"] == 1)\n",
    "\n",
    "num_samples = df_low.count()\n",
    "\n",
    "df_high_sampled = df_high.sample(False, num_samples / df_high.count(), seed=42)\n",
    "\n",
    "df = df_high_sampled.union(df_low)\n",
    "\n",
    "from pyspark.ml.feature import VectorAssembler\n",
    "\n",
    "feature_columns = [\"BMI\", \"Smoking\", \"AlcoholDrinking\", \"Stroke\", \"DiffWalking\", \n",
    "                   \"Sex\", \"Diabetic\", \"PhysicalActivity\", \"SleepTime\", \"Asthma\", \n",
    "                   \"KidneyDisease\", \"SkinCancer\", \"BMI_Category_Index\", \n",
    "                   \"AgeCategory_Index\", \"GenHealth_Index\"]\n",
    "\n",
    "assembler = VectorAssembler(inputCols=feature_columns, outputCol=\"features\")\n",
    "\n",
    "output = assembler.transform(df)\n",
    "\n",
    "final_data = output.select(\"features\", \"HeartDisease\")\n",
    "\n",
    "train_data, test_data = final_data.randomSplit([0.7, 0.3])\n"
   ]
  },
  {
   "cell_type": "code",
   "execution_count": 2,
   "id": "ae8251e7",
   "metadata": {},
   "outputs": [
    {
     "name": "stderr",
     "output_type": "stream",
     "text": [
      "                                                                                \r"
     ]
    },
    {
     "name": "stdout",
     "output_type": "stream",
     "text": [
      "Accuracy: 0.786228456008504\n"
     ]
    }
   ],
   "source": [
    "from pyspark.ml.classification import LinearSVC\n",
    "from pyspark.ml.evaluation import BinaryClassificationEvaluator\n",
    "\n",
    "# SVM Model\n",
    "svm = LinearSVC(labelCol=\"HeartDisease\", featuresCol=\"features\")\n",
    "\n",
    "model = svm.fit(train_data)\n",
    "\n",
    "predictions = model.transform(test_data)\n",
    "\n",
    "evaluator = BinaryClassificationEvaluator(labelCol=\"HeartDisease\")\n",
    "accuracy = evaluator.evaluate(predictions)\n",
    "\n",
    "print(\"Accuracy:\", accuracy)"
   ]
  },
  {
   "cell_type": "code",
   "execution_count": 3,
   "id": "b85be93d",
   "metadata": {},
   "outputs": [
    {
     "name": "stdout",
     "output_type": "stream",
     "text": [
      "{Param(parent='LinearSVC_75cd11acc0c1', name='aggregationDepth', doc='suggested depth for treeAggregate (>= 2).'): 2, Param(parent='LinearSVC_75cd11acc0c1', name='featuresCol', doc='features column name.'): 'features', Param(parent='LinearSVC_75cd11acc0c1', name='fitIntercept', doc='whether to fit an intercept term.'): True, Param(parent='LinearSVC_75cd11acc0c1', name='labelCol', doc='label column name.'): 'HeartDisease', Param(parent='LinearSVC_75cd11acc0c1', name='maxBlockSizeInMB', doc='maximum memory in MB for stacking input data into blocks. Data is stacked within partitions. If more than remaining data size in a partition then it is adjusted to the data size. Default 0.0 represents choosing optimal value, depends on specific algorithm. Must be >= 0.'): 0.0, Param(parent='LinearSVC_75cd11acc0c1', name='maxIter', doc='max number of iterations (>= 0).'): 100, Param(parent='LinearSVC_75cd11acc0c1', name='predictionCol', doc='prediction column name.'): 'prediction', Param(parent='LinearSVC_75cd11acc0c1', name='rawPredictionCol', doc='raw prediction (a.k.a. confidence) column name.'): 'rawPrediction', Param(parent='LinearSVC_75cd11acc0c1', name='regParam', doc='regularization parameter (>= 0).'): 0.0, Param(parent='LinearSVC_75cd11acc0c1', name='standardization', doc='whether to standardize the training features before fitting the model.'): True, Param(parent='LinearSVC_75cd11acc0c1', name='threshold', doc='The threshold in binary classification applied to the linear model prediction.  This threshold can be any real number, where Inf will make all predictions 0.0 and -Inf will make all predictions 1.0.'): 0.0, Param(parent='LinearSVC_75cd11acc0c1', name='tol', doc='the convergence tolerance for iterative algorithms (>= 0).'): 1e-06}\n"
     ]
    }
   ],
   "source": [
    "param_map = model.extractParamMap()\n",
    "print(param_map)"
   ]
  },
  {
   "cell_type": "code",
   "execution_count": 12,
   "id": "95558995",
   "metadata": {},
   "outputs": [
    {
     "name": "stderr",
     "output_type": "stream",
     "text": [
      "                                                                                \r"
     ]
    },
    {
     "name": "stdout",
     "output_type": "stream",
     "text": [
      "AUC: 0.785707460254017\n",
      "Coefficients: [0.0005024231446182544,0.43835591151950937,-0.2917911218620303,1.2810161027161429,0.8451437288395424,0.4717877326513343,0.9020053794941963,-0.18176236316372135,0.021961335352705887,0.158448084936633,0.7469622454757158,0.8805131290242593,-0.010739224190918247,-0.0873522090613425,0.16877967927548254]\n",
      "Intercept: -0.9952754709165723\n"
     ]
    }
   ],
   "source": [
    "from pyspark.ml.evaluation import BinaryClassificationEvaluator\n",
    "from pyspark.ml.classification import LinearSVCModel\n",
    "\n",
    "predictions = model.transform(test_data)\n",
    "\n",
    "evaluator = BinaryClassificationEvaluator(labelCol=\"HeartDisease\", metricName=\"areaUnderROC\")\n",
    "\n",
    "auc = evaluator.evaluate(predictions)\n",
    "print(\"AUC: \" + str(auc))\n",
    "\n",
    "coefficients = model.coefficients\n",
    "intercept = model.intercept\n",
    "\n",
    "print(\"Coefficients: \" + str(coefficients))\n",
    "print(\"Intercept: \" + str(intercept))"
   ]
  },
  {
   "cell_type": "code",
   "execution_count": 17,
   "id": "51708257",
   "metadata": {},
   "outputs": [
    {
     "name": "stderr",
     "output_type": "stream",
     "text": [
      "                                                                                \r"
     ]
    },
    {
     "data": {
      "image/png": "[encoded data removed]",
      "text/plain": [
       "<Figure size 576x432 with 1 Axes>"
      ]
     },
     "metadata": {
      "needs_background": "light"
     },
     "output_type": "display_data"
    }
   ],
   "source": [
    "import matplotlib.pyplot as plt\n",
    "import seaborn as sns\n",
    "from sklearn.metrics import confusion_matrix\n",
    "import numpy as np\n",
    "\n",
    "y_true = np.array(test_data.select(\"HeartDisease\").collect())\n",
    "y_pred = np.array(predictions.select(\"prediction\").collect())\n",
    "\n",
    "cm = confusion_matrix(y_true, y_pred)\n",
    "\n",
    "plt.figure(figsize=(8, 6))\n",
    "sns.heatmap(cm, annot=True, fmt=\"d\", cmap=\"Blues\", cbar=False)\n",
    "plt.xlabel(\"Predicted Labels\")\n",
    "plt.ylabel(\"True Labels\")\n",
    "plt.title(\"Confusion Matrix\")\n",
    "plt.show()\n"
   ]
  },
  {
   "cell_type": "code",
   "execution_count": 22,
   "id": "afd4c8c1",
   "metadata": {},
   "outputs": [
    {
     "name": "stderr",
     "output_type": "stream",
     "text": [
      "                                                                                \r"
     ]
    },
    {
     "data": {
      "image/png": "[encoded data removed]",
      "text/plain": [
       "<Figure size 576x432 with 1 Axes>"
      ]
     },
     "metadata": {
      "needs_background": "light"
     },
     "output_type": "display_data"
    }
   ],
   "source": [
    "import numpy as np\n",
    "import matplotlib.pyplot as plt\n",
    "from sklearn.metrics import roc_curve, auc\n",
    "\n",
    "y_true = predictions.select(\"HeartDisease\").rdd.flatMap(lambda x: x).collect()\n",
    "y_raw = predictions.select(\"rawPrediction\").rdd.flatMap(lambda x: x).collect()\n",
    "\n",
    "y_prob = [raw[1] for raw in y_raw]\n",
    "\n",
    "fpr, tpr, thresholds = roc_curve(y_true, y_prob)\n",
    "roc_auc = auc(fpr, tpr)\n",
    "\n",
    "plt.figure(figsize=(8, 6))\n",
    "plt.plot(fpr, tpr, color='darkorange', lw=2, label='ROC curve (area = %0.2f)' % roc_auc)\n",
    "plt.plot([0, 1], [0, 1], color='navy', lw=2, linestyle='--')\n",
    "plt.xlim([0.0, 1.0])\n",
    "plt.ylim([0.0, 1.05])\n",
    "plt.xlabel('False Positive Rate')\n",
    "plt.ylabel('True Positive Rate')\n",
    "plt.title('ROC Curve')\n",
    "plt.legend(loc='lower right')\n",
    "plt.show()\n"
   ]
  },
  {
   "cell_type": "code",
   "execution_count": 23,
   "id": "8eba9b99",
   "metadata": {},
   "outputs": [
    {
     "name": "stderr",
     "output_type": "stream",
     "text": [
      "[Stage 489:============================>                            (2 + 2) / 4]\r"
     ]
    },
    {
     "name": "stdout",
     "output_type": "stream",
     "text": [
      "Accuracy: 0.72\n"
     ]
    },
    {
     "name": "stderr",
     "output_type": "stream",
     "text": [
      "\r",
      "[Stage 489:==========================================>              (3 + 1) / 4]\r",
      "\r",
      "                                                                                \r"
     ]
    }
   ],
   "source": [
    "from pyspark.ml.evaluation import BinaryClassificationEvaluator\n",
    "\n",
    "# 创建一个BinaryClassificationEvaluator对象\n",
    "evaluator = BinaryClassificationEvaluator(labelCol=\"HeartDisease\", rawPredictionCol=\"prediction\", metricName=\"areaUnderROC\")\n",
    "\n",
    "# 使用评估器来计算AUC\n",
    "auc = evaluator.evaluate(predictions)\n",
    "\n",
    "# 打印出AUC值\n",
    "print(\"Accuracy: {:.5f}\".format(auc))"
   ]
  },
  {
   "cell_type": "code",
   "execution_count": 5,
   "id": "f9d5fa29",
   "metadata": {},
   "outputs": [
    {
     "name": "stderr",
     "output_type": "stream",
     "text": [
      "23/10/09 14:31:26 ERROR OWLQN: Failure! Resetting history: breeze.optimize.NaNHistory: \n",
      "                                                                                \r"
     ]
    },
    {
     "data": {
      "image/png": "[encoded data removed]",
      "text/plain": [
       "<Figure size 720x432 with 1 Axes>"
      ]
     },
     "metadata": {
      "needs_background": "light"
     },
     "output_type": "display_data"
    },
    {
     "name": "stdout",
     "output_type": "stream",
     "text": [
      "[0.7862202900091785, 0.7861900933216134, 0.7857133294896361, 0.781497445299743, 0.7784280403543629, 0.7784352433069845]\n"
     ]
    }
   ],
   "source": [
    "import matplotlib.pyplot as plt\n",
    "import numpy as np\n",
    "from pyspark.ml.classification import LinearSVC\n",
    "from pyspark.ml.evaluation import BinaryClassificationEvaluator\n",
    "\n",
    "reg_params = [0.001, 0.01, 0.1, 1.0, 10.0, 100.0]\n",
    "\n",
    "accuracies = []\n",
    "\n",
    "for reg_param in reg_params:\n",
    "    svm = LinearSVC(labelCol=\"HeartDisease\", featuresCol=\"features\", regParam=reg_param)\n",
    "\n",
    "    model = svm.fit(train_data)\n",
    "\n",
    "    predictions = model.transform(test_data)\n",
    "\n",
    "    evaluator = BinaryClassificationEvaluator(labelCol=\"HeartDisease\")\n",
    "    accuracy = evaluator.evaluate(predictions)\n",
    "    \n",
    "    accuracies.append(accuracy)\n",
    "\n",
    "\n",
    "plt.figure(figsize=(10, 6))\n",
    "plt.plot(reg_params, accuracies, marker='o', linestyle='-')\n",
    "plt.xlabel('regParam')\n",
    "plt.ylabel('Accuracy')\n",
    "plt.title('Accuracy vs. regParam')\n",
    "plt.xscale('log')  \n",
    "plt.grid(True)\n",
    "plt.show()\n",
    "print(accuracies)"
   ]
  },
  {
   "cell_type": "code",
   "execution_count": null,
   "id": "7ed853d7",
   "metadata": {},
   "outputs": [],
   "source": []
  }
 ],
 "metadata": {
  "kernelspec": {
   "display_name": "Python 3 (ipykernel)",
   "language": "python",
   "name": "python3"
  },
  "language_info": {
   "codemirror_mode": {
    "name": "ipython",
    "version": 3
   },
   "file_extension": ".py",
   "mimetype": "text/x-python",
   "name": "python",
   "nbconvert_exporter": "python",
   "pygments_lexer": "ipython3",
   "version": "3.10.4"
  }
 },
 "nbformat": 4,
 "nbformat_minor": 5
}
