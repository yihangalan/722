{
 "cells": [
  {
   "cell_type": "code",
   "execution_count": 18,
   "id": "ebe371ac",
   "metadata": {},
   "outputs": [
    {
     "name": "stderr",
     "output_type": "stream",
     "text": [
      "                                                                                \r"
     ]
    }
   ],
   "source": [
    "from pyspark.sql import SparkSession\n",
    "spark = SparkSession.builder.appName(\"dataSet\").getOrCreate()\n",
    "file = \"heart_2020_cleaned.csv\"\n",
    "df = spark.read.csv(file, header=True, inferSchema=True)"
   ]
  },
  {
   "cell_type": "code",
   "execution_count": 19,
   "id": "5781a8cc",
   "metadata": {},
   "outputs": [
    {
     "name": "stdout",
     "output_type": "stream",
     "text": [
      "root\n",
      " |-- HeartDisease: string (nullable = true)\n",
      " |-- BMI: double (nullable = true)\n",
      " |-- Smoking: string (nullable = true)\n",
      " |-- AlcoholDrinking: string (nullable = true)\n",
      " |-- Stroke: string (nullable = true)\n",
      " |-- DiffWalking: string (nullable = true)\n",
      " |-- Sex: string (nullable = true)\n",
      " |-- AgeCategory: string (nullable = true)\n",
      " |-- Diabetic: string (nullable = true)\n",
      " |-- PhysicalActivity: string (nullable = true)\n",
      " |-- GenHealth: string (nullable = true)\n",
      " |-- SleepTime: integer (nullable = true)\n",
      " |-- Asthma: string (nullable = true)\n",
      " |-- KidneyDisease: string (nullable = true)\n",
      " |-- SkinCancer: string (nullable = true)\n",
      "\n"
     ]
    }
   ],
   "source": [
    "columns_to_drop = [\"Race\", \"MentalHealth\", \"PhysicalHealth\"]\n",
    "df = df.drop(*columns_to_drop)\n",
    "\n",
    "df.printSchema()"
   ]
  },
  {
   "cell_type": "code",
   "execution_count": 9,
   "id": "e37eac73",
   "metadata": {},
   "outputs": [
    {
     "name": "stdout",
     "output_type": "stream",
     "text": [
      "+-------+------------------+\n",
      "|summary|               BMI|\n",
      "+-------+------------------+\n",
      "|  count|            319795|\n",
      "|   mean|28.325398520925823|\n",
      "| stddev| 6.356100200470757|\n",
      "|    min|             12.02|\n",
      "|    max|             94.85|\n",
      "+-------+------------------+\n",
      "\n"
     ]
    }
   ],
   "source": [
    "column_name = \"BMI\"\n",
    "description = df.describe(column_name)\n",
    "\n",
    "description.show()"
   ]
  },
  {
   "cell_type": "code",
   "execution_count": 10,
   "id": "e687972b",
   "metadata": {},
   "outputs": [
    {
     "name": "stdout",
     "output_type": "stream",
     "text": [
      "+-------+------------------+\n",
      "|summary|         SleepTime|\n",
      "+-------+------------------+\n",
      "|  count|            319795|\n",
      "|   mean| 7.097074688472302|\n",
      "| stddev|1.4360070609642777|\n",
      "|    min|                 1|\n",
      "|    max|                24|\n",
      "+-------+------------------+\n",
      "\n"
     ]
    }
   ],
   "source": [
    "column_name = \"SleepTime\"\n",
    "description = df.describe(column_name)\n",
    "\n",
    "description.show()"
   ]
  },
  {
   "cell_type": "code",
   "execution_count": 20,
   "id": "79dbc966",
   "metadata": {},
   "outputs": [
    {
     "name": "stdout",
     "output_type": "stream",
     "text": [
      "+------------+-----+-------+---------------+------+-----------+------+-----------+--------------------+----------------+---------+---------+------+-------------+----------+\n",
      "|HeartDisease|  BMI|Smoking|AlcoholDrinking|Stroke|DiffWalking|   Sex|AgeCategory|            Diabetic|PhysicalActivity|GenHealth|SleepTime|Asthma|KidneyDisease|SkinCancer|\n",
      "+------------+-----+-------+---------------+------+-----------+------+-----------+--------------------+----------------+---------+---------+------+-------------+----------+\n",
      "|          No| 16.6|    Yes|             No|    No|         No|Female|      55-59|                 Yes|             Yes|Very good|        5|   Yes|           No|       Yes|\n",
      "|          No|20.34|     No|             No|   Yes|         No|Female|80 or older|                  No|             Yes|Very good|        7|    No|           No|        No|\n",
      "|          No|26.58|    Yes|             No|    No|         No|  Male|      65-69|                 Yes|             Yes|     Fair|        8|   Yes|           No|        No|\n",
      "|          No|24.21|     No|             No|    No|         No|Female|      75-79|                  No|              No|     Good|        6|    No|           No|       Yes|\n",
      "|          No|23.71|     No|             No|    No|        Yes|Female|      40-44|                  No|             Yes|Very good|        8|    No|           No|        No|\n",
      "|          No|21.63|     No|             No|    No|         No|Female|      70-74|                  No|             Yes|     Fair|        4|   Yes|           No|       Yes|\n",
      "|          No|31.64|    Yes|             No|    No|        Yes|Female|80 or older|                 Yes|              No|     Good|        9|   Yes|           No|        No|\n",
      "|          No|26.45|     No|             No|    No|         No|Female|80 or older|No, borderline di...|              No|     Fair|        5|    No|          Yes|        No|\n",
      "|          No|40.69|     No|             No|    No|        Yes|  Male|      65-69|                  No|             Yes|     Good|       10|    No|           No|        No|\n",
      "|          No|28.71|    Yes|             No|    No|         No|Female|      55-59|                  No|             Yes|Very good|        5|    No|           No|        No|\n",
      "|          No|28.37|    Yes|             No|    No|        Yes|  Male|      75-79|                 Yes|             Yes|Very good|        8|    No|           No|        No|\n",
      "|          No|28.15|     No|             No|    No|        Yes|Female|80 or older|                  No|              No|     Good|        7|    No|           No|        No|\n",
      "|          No|29.29|    Yes|             No|    No|        Yes|Female|      60-64|                  No|              No|     Good|        5|    No|           No|        No|\n",
      "|          No|29.18|     No|             No|    No|         No|Female|      50-54|                  No|             Yes|Very good|        6|    No|           No|        No|\n",
      "|          No|26.26|     No|             No|    No|         No|Female|      70-74|                  No|              No|Very good|       10|    No|           No|        No|\n",
      "|          No|22.59|    Yes|             No|    No|        Yes|  Male|      70-74|No, borderline di...|             Yes|     Good|        8|    No|           No|        No|\n",
      "|          No|29.86|    Yes|             No|    No|        Yes|Female|      75-79|                 Yes|              No|     Fair|        5|    No|          Yes|        No|\n",
      "|          No|18.13|     No|             No|    No|         No|  Male|80 or older|                  No|             Yes|Excellent|        8|    No|           No|       Yes|\n",
      "|          No|21.16|     No|             No|    No|         No|Female|80 or older|No, borderline di...|              No|     Good|        8|    No|           No|        No|\n",
      "|          No| 28.9|     No|             No|    No|         No|Female|      70-74|                 Yes|              No|Very good|        7|    No|           No|        No|\n",
      "+------------+-----+-------+---------------+------+-----------+------+-----------+--------------------+----------------+---------+---------+------+-------------+----------+\n",
      "only showing top 20 rows\n",
      "\n"
     ]
    }
   ],
   "source": [
    "from pyspark.sql import SparkSession\n",
    "from pyspark.sql.functions import stddev, mean, abs, col\n",
    "\n",
    "\n",
    "bmi_stats = df.select(mean(col(\"BMI\")).alias(\"mean_BMI\"), stddev(col(\"BMI\")).alias(\"stddev_BMI\")).first()\n",
    "mean_bmi = bmi_stats[\"mean_BMI\"]\n",
    "stddev_bmi = bmi_stats[\"stddev_BMI\"]\n",
    "\n",
    "\n",
    "sleep_time_stats = df.select(mean(col(\"SleepTime\")).alias(\"mean_SleepTime\"), stddev(col(\"SleepTime\")).alias(\"stddev_SleepTime\")).first()\n",
    "mean_sleep_time = sleep_time_stats[\"mean_SleepTime\"]\n",
    "stddev_sleep_time = sleep_time_stats[\"stddev_SleepTime\"]\n",
    "\n",
    "\n",
    "threshold = 3\n",
    "\n",
    "\n",
    "df = df.withColumn(\"z_score_BMI\", abs((col(\"BMI\") - mean_bmi) / stddev_bmi))\n",
    "df = df.withColumn(\"z_score_SleepTime\", abs((col(\"SleepTime\") - mean_sleep_time) / stddev_sleep_time))\n",
    "\n",
    "df = df.filter(col(\"z_score_BMI\") <= threshold)\n",
    "\n",
    "\n",
    "df = df.filter(col(\"z_score_SleepTime\") <= threshold)\n",
    "\n",
    "\n",
    "df = df.drop(\"z_score_BMI\", \"z_score_SleepTime\")\n",
    "\n",
    "\n",
    "df.show()"
   ]
  },
  {
   "cell_type": "code",
   "execution_count": 4,
   "id": "edabf511",
   "metadata": {},
   "outputs": [
    {
     "name": "stderr",
     "output_type": "stream",
     "text": [
      "                                                                                \r"
     ]
    },
    {
     "data": {
      "image/png": "[encoded data removed]",
      "text/plain": [
       "<Figure size 864x576 with 1 Axes>"
      ]
     },
     "metadata": {
      "needs_background": "light"
     },
     "output_type": "display_data"
    }
   ],
   "source": [
    "from pyspark.sql import SparkSession\n",
    "import pandas as pd\n",
    "import matplotlib.pyplot as plt\n",
    "import seaborn as sns\n",
    "pandas_df = df.toPandas()\n",
    "\n",
    "plt.figure(figsize=(12, 8))\n",
    "sns.set(style=\"whitegrid\")\n",
    "\n",
    "sns.boxplot(data=pandas_df, palette=\"Set3\", orient=\"h\")\n",
    "plt.title('Box Plots of Numeric Features')\n",
    "plt.xlabel('Values')\n",
    "\n",
    "plt.show()"
   ]
  },
  {
   "cell_type": "code",
   "execution_count": 21,
   "id": "f8b88ad7",
   "metadata": {},
   "outputs": [
    {
     "name": "stderr",
     "output_type": "stream",
     "text": [
      "\r",
      "[Stage 28:>                                                         (0 + 2) / 2]\r",
      "\r",
      "[Stage 28:=============================>                            (1 + 1) / 2]\r"
     ]
    },
    {
     "name": "stdout",
     "output_type": "stream",
     "text": [
      "+-----------------------+------------------+--------------------------+-----------------+----------------------+--------------+----------------------+-------------------+---------------------------+--------------------+-----------------+------------------------+---------------------+--------------+--------------------+\n",
      "|HeartDisease_null_count|Smoking_null_count|AlcoholDrinking_null_count|Stroke_null_count|DiffWalking_null_count|Sex_null_count|AgeCategory_null_count|Diabetic_null_count|PhysicalActivity_null_count|GenHealth_null_count|Asthma_null_count|KidneyDisease_null_count|SkinCancer_null_count|BMI_null_count|SleepTime_null_count|\n",
      "+-----------------------+------------------+--------------------------+-----------------+----------------------+--------------+----------------------+-------------------+---------------------------+--------------------+-----------------+------------------------+---------------------+--------------+--------------------+\n",
      "|                      0|                 0|                         0|                0|                     0|             0|                     0|                  0|                          0|                   0|                0|                       0|                    0|             0|                   0|\n",
      "+-----------------------+------------------+--------------------------+-----------------+----------------------+--------------+----------------------+-------------------+---------------------------+--------------------+-----------------+------------------------+---------------------+--------------+--------------------+\n",
      "\n"
     ]
    },
    {
     "name": "stderr",
     "output_type": "stream",
     "text": [
      "\r",
      "                                                                                \r"
     ]
    }
   ],
   "source": [
    "df = df.dropna()\n",
    "\n",
    "\n",
    "numeric_features=['BMI', 'SleepTime']\n",
    "categorical_features=['HeartDisease', 'Smoking', 'AlcoholDrinking', 'Stroke', 'DiffWalking', 'Sex', 'AgeCategory', 'Diabetic', 'PhysicalActivity', 'GenHealth','Asthma', 'KidneyDisease', 'SkinCancer']\n",
    "from pyspark.sql import SparkSession\n",
    "from pyspark.sql.functions import col, sum\n",
    "null_counts = df.select([sum(col(c).isNull().cast(\"int\")).alias(c + \"_null_count\") for c in categorical_features+numeric_features])\n",
    "null_counts.show()"
   ]
  },
  {
   "cell_type": "code",
   "execution_count": 23,
   "id": "e71ccfc7",
   "metadata": {},
   "outputs": [
    {
     "name": "stdout",
     "output_type": "stream",
     "text": [
      "+------------+-----+-------+---------------+------+-----------+------+-----------+--------------------+----------------+---------+---------+------+-------------+----------+------------+\n",
      "|HeartDisease|  BMI|Smoking|AlcoholDrinking|Stroke|DiffWalking|   Sex|AgeCategory|            Diabetic|PhysicalActivity|GenHealth|SleepTime|Asthma|KidneyDisease|SkinCancer|BMI_Category|\n",
      "+------------+-----+-------+---------------+------+-----------+------+-----------+--------------------+----------------+---------+---------+------+-------------+----------+------------+\n",
      "|          No| 16.6|    Yes|             No|    No|         No|Female|      55-59|                 Yes|             Yes|Very good|        5|   Yes|           No|       Yes|         Low|\n",
      "|          No|20.34|     No|             No|   Yes|         No|Female|80 or older|                  No|             Yes|Very good|        7|    No|           No|        No|      Normal|\n",
      "|          No|26.58|    Yes|             No|    No|         No|  Male|      65-69|                 Yes|             Yes|     Fair|        8|   Yes|           No|        No|        Over|\n",
      "|          No|24.21|     No|             No|    No|         No|Female|      75-79|                  No|              No|     Good|        6|    No|           No|       Yes|      Normal|\n",
      "|          No|23.71|     No|             No|    No|        Yes|Female|      40-44|                  No|             Yes|Very good|        8|    No|           No|        No|      Normal|\n",
      "|          No|21.63|     No|             No|    No|         No|Female|      70-74|                  No|             Yes|     Fair|        4|   Yes|           No|       Yes|      Normal|\n",
      "|          No|31.64|    Yes|             No|    No|        Yes|Female|80 or older|                 Yes|              No|     Good|        9|   Yes|           No|        No|      ObeseI|\n",
      "|          No|26.45|     No|             No|    No|         No|Female|80 or older|No, borderline di...|              No|     Fair|        5|    No|          Yes|        No|        Over|\n",
      "|          No|40.69|     No|             No|    No|        Yes|  Male|      65-69|                  No|             Yes|     Good|       10|    No|           No|        No|  ObesityIII|\n",
      "|          No|28.71|    Yes|             No|    No|         No|Female|      55-59|                  No|             Yes|Very good|        5|    No|           No|        No|        Over|\n",
      "|          No|28.37|    Yes|             No|    No|        Yes|  Male|      75-79|                 Yes|             Yes|Very good|        8|    No|           No|        No|        Over|\n",
      "|          No|28.15|     No|             No|    No|        Yes|Female|80 or older|                  No|              No|     Good|        7|    No|           No|        No|        Over|\n",
      "|          No|29.29|    Yes|             No|    No|        Yes|Female|      60-64|                  No|              No|     Good|        5|    No|           No|        No|        Over|\n",
      "|          No|29.18|     No|             No|    No|         No|Female|      50-54|                  No|             Yes|Very good|        6|    No|           No|        No|        Over|\n",
      "|          No|26.26|     No|             No|    No|         No|Female|      70-74|                  No|              No|Very good|       10|    No|           No|        No|        Over|\n",
      "|          No|22.59|    Yes|             No|    No|        Yes|  Male|      70-74|No, borderline di...|             Yes|     Good|        8|    No|           No|        No|      Normal|\n",
      "|          No|29.86|    Yes|             No|    No|        Yes|Female|      75-79|                 Yes|              No|     Fair|        5|    No|          Yes|        No|        Over|\n",
      "|          No|18.13|     No|             No|    No|         No|  Male|80 or older|                  No|             Yes|Excellent|        8|    No|           No|       Yes|         Low|\n",
      "|          No|21.16|     No|             No|    No|         No|Female|80 or older|No, borderline di...|              No|     Good|        8|    No|           No|        No|      Normal|\n",
      "|          No| 28.9|     No|             No|    No|         No|Female|      70-74|                 Yes|              No|Very good|        7|    No|           No|        No|        Over|\n",
      "+------------+-----+-------+---------------+------+-----------+------+-----------+--------------------+----------------+---------+---------+------+-------------+----------+------------+\n",
      "only showing top 20 rows\n",
      "\n"
     ]
    }
   ],
   "source": [
    "from pyspark.sql import functions as F\n",
    "\n",
    "df = df.withColumn(\n",
    "    'BMI_Category',\n",
    "    F.when((df['BMI'] < 18.5), 'Low')\n",
    "    .when((df['BMI'] >= 18.5) & (df['BMI'] < 24.9), 'Normal')\n",
    "    .when((df['BMI'] >= 25.0) & (df['BMI'] < 29.9), 'Over')\n",
    "    .when((df['BMI'] >= 30.0) & (df['BMI'] < 34.9), 'ObeseI')\n",
    "    .when((df['BMI'] >= 35.0) & (df['BMI'] < 39.9), 'ObesityII')\n",
    "    .otherwise('ObesityIII')\n",
    ")\n",
    "\n",
    "df.show()\n"
   ]
  },
  {
   "cell_type": "code",
   "execution_count": 36,
   "id": "6c127275",
   "metadata": {},
   "outputs": [
    {
     "name": "stderr",
     "output_type": "stream",
     "text": [
      "\r",
      "[Stage 94:=============================>                            (1 + 1) / 2]\r",
      "\r",
      "                                                                                \r"
     ]
    },
    {
     "name": "stdout",
     "output_type": "stream",
     "text": [
      "+------------+-----+-------+---------------+------+-----------+------+-----------+--------------------+----------------+---------+---------+------+-------------+----------+------------+\n",
      "|HeartDisease|  BMI|Smoking|AlcoholDrinking|Stroke|DiffWalking|   Sex|AgeCategory|            Diabetic|PhysicalActivity|GenHealth|SleepTime|Asthma|KidneyDisease|SkinCancer|BMI_Category|\n",
      "+------------+-----+-------+---------------+------+-----------+------+-----------+--------------------+----------------+---------+---------+------+-------------+----------+------------+\n",
      "|          No| 16.6|    Yes|             No|    No|         No|Female|      55-59|                 Yes|             Yes|Very good|        5|   Yes|           No|       Yes|         Low|\n",
      "|          No|20.34|     No|             No|   Yes|         No|Female|80 or older|                  No|             Yes|Very good|        7|    No|           No|        No|      Normal|\n",
      "|          No|26.58|    Yes|             No|    No|         No|  Male|      65-69|                 Yes|             Yes|     Fair|        8|   Yes|           No|        No|        Over|\n",
      "|          No|24.21|     No|             No|    No|         No|Female|      75-79|                  No|              No|     Good|        6|    No|           No|       Yes|      Normal|\n",
      "|          No|23.71|     No|             No|    No|        Yes|Female|      40-44|                  No|             Yes|Very good|        8|    No|           No|        No|      Normal|\n",
      "|          No|21.63|     No|             No|    No|         No|Female|      70-74|                  No|             Yes|     Fair|        4|   Yes|           No|       Yes|      Normal|\n",
      "|          No|31.64|    Yes|             No|    No|        Yes|Female|80 or older|                 Yes|              No|     Good|        9|   Yes|           No|        No|      ObeseI|\n",
      "|          No|26.45|     No|             No|    No|         No|Female|80 or older|No, borderline di...|              No|     Fair|        5|    No|          Yes|        No|        Over|\n",
      "|          No|40.69|     No|             No|    No|        Yes|  Male|      65-69|                  No|             Yes|     Good|       10|    No|           No|        No|  ObesityIII|\n",
      "|          No|28.71|    Yes|             No|    No|         No|Female|      55-59|                  No|             Yes|Very good|        5|    No|           No|        No|        Over|\n",
      "|          No|28.37|    Yes|             No|    No|        Yes|  Male|      75-79|                 Yes|             Yes|Very good|        8|    No|           No|        No|        Over|\n",
      "|          No|28.15|     No|             No|    No|        Yes|Female|80 or older|                  No|              No|     Good|        7|    No|           No|        No|        Over|\n",
      "|          No|29.29|    Yes|             No|    No|        Yes|Female|      60-64|                  No|              No|     Good|        5|    No|           No|        No|        Over|\n",
      "|          No|29.18|     No|             No|    No|         No|Female|      50-54|                  No|             Yes|Very good|        6|    No|           No|        No|        Over|\n",
      "|          No|26.26|     No|             No|    No|         No|Female|      70-74|                  No|              No|Very good|       10|    No|           No|        No|        Over|\n",
      "|          No|22.59|    Yes|             No|    No|        Yes|  Male|      70-74|No, borderline di...|             Yes|     Good|        8|    No|           No|        No|      Normal|\n",
      "|          No|29.86|    Yes|             No|    No|        Yes|Female|      75-79|                 Yes|              No|     Fair|        5|    No|          Yes|        No|        Over|\n",
      "|          No|18.13|     No|             No|    No|         No|  Male|80 or older|                  No|             Yes|Excellent|        8|    No|           No|       Yes|         Low|\n",
      "|          No|21.16|     No|             No|    No|         No|Female|80 or older|No, borderline di...|              No|     Good|        8|    No|           No|        No|      Normal|\n",
      "|          No| 28.9|     No|             No|    No|         No|Female|      70-74|                 Yes|              No|Very good|        7|    No|           No|        No|        Over|\n",
      "+------------+-----+-------+---------------+------+-----------+------+-----------+--------------------+----------------+---------+---------+------+-------------+----------+------------+\n",
      "only showing top 20 rows\n",
      "\n"
     ]
    }
   ],
   "source": [
    "from pyspark.sql import SparkSession\n",
    "spark = SparkSession.builder.appName(\"dataSet\").getOrCreate()\n",
    "file = \"heart_2020_cleaned.csv\"\n",
    "df = spark.read.csv(file, header=True, inferSchema=True)\n",
    "\n",
    "columns_to_drop = [\"Race\", \"MentalHealth\", \"PhysicalHealth\"]\n",
    "df = df.drop(*columns_to_drop)\n",
    "\n",
    "from pyspark.sql.functions import stddev, mean, abs, col\n",
    "bmi_stats = df.select(mean(col(\"BMI\")).alias(\"mean_BMI\"), stddev(col(\"BMI\")).alias(\"stddev_BMI\")).first()\n",
    "mean_bmi = bmi_stats[\"mean_BMI\"]\n",
    "stddev_bmi = bmi_stats[\"stddev_BMI\"]\n",
    "sleep_time_stats = df.select(mean(col(\"SleepTime\")).alias(\"mean_SleepTime\"), stddev(col(\"SleepTime\")).alias(\"stddev_SleepTime\")).first()\n",
    "mean_sleep_time = sleep_time_stats[\"mean_SleepTime\"]\n",
    "stddev_sleep_time = sleep_time_stats[\"stddev_SleepTime\"]\n",
    "threshold = 3\n",
    "df = df.withColumn(\"z_score_BMI\", abs((col(\"BMI\") - mean_bmi) / stddev_bmi))\n",
    "df = df.withColumn(\"z_score_SleepTime\", abs((col(\"SleepTime\") - mean_sleep_time) / stddev_sleep_time))\n",
    "df = df.filter(col(\"z_score_BMI\") <= threshold)\n",
    "df = df.filter(col(\"z_score_SleepTime\") <= threshold)\n",
    "df = df.drop(\"z_score_BMI\", \"z_score_SleepTime\")\n",
    "\n",
    "df = df.dropna()\n",
    "\n",
    "from pyspark.sql import functions as F\n",
    "\n",
    "df = df.withColumn(\n",
    "    'BMI_Category',\n",
    "    F.when((df['BMI'] < 18.5), 'Low')\n",
    "    .when((df['BMI'] >= 18.5) & (df['BMI'] < 24.9), 'Normal')\n",
    "    .when((df['BMI'] >= 25.0) & (df['BMI'] < 29.9), 'Over')\n",
    "    .when((df['BMI'] >= 30.0) & (df['BMI'] < 34.9), 'ObeseI')\n",
    "    .when((df['BMI'] >= 35.0) & (df['BMI'] < 39.9), 'ObesityII')\n",
    "    .otherwise('ObesityIII')\n",
    ")\n",
    "\n",
    "df.show()"
   ]
  },
  {
   "cell_type": "code",
   "execution_count": 37,
   "id": "97bfe819",
   "metadata": {},
   "outputs": [
    {
     "name": "stderr",
     "output_type": "stream",
     "text": [
      "                                                                                \r"
     ]
    },
    {
     "name": "stdout",
     "output_type": "stream",
     "text": [
      "+------------+-----+-------+---------------+------+-----------+---+--------+----------------+---------+------+-------------+----------+-----------------+----------------+--------------+---------------+--------------+-------------+\n",
      "|HeartDisease|  BMI|Smoking|AlcoholDrinking|Stroke|DiffWalking|Sex|Diabetic|PhysicalActivity|SleepTime|Asthma|KidneyDisease|SkinCancer|BMI_CategoryIndex|AgeCategoryIndex|GenHealthIndex|BMI_CategoryVec|AgeCategoryVec| GenHealthVec|\n",
      "+------------+-----+-------+---------------+------+-----------+---+--------+----------------+---------+------+-------------+----------+-----------------+----------------+--------------+---------------+--------------+-------------+\n",
      "|           0| 16.6|      1|              0|     0|          0|  0|       1|               1|        5|     1|            0|         1|              5.0|             3.0|           0.0|      (5,[],[])|(12,[3],[1.0])|(4,[0],[1.0])|\n",
      "|           0|20.34|      0|              0|     1|          0|  0|       0|               1|        7|     0|            0|         0|              1.0|             5.0|           0.0|  (5,[1],[1.0])|(12,[5],[1.0])|(4,[0],[1.0])|\n",
      "|           0|26.58|      1|              0|     0|          0|  1|       1|               1|        8|     1|            0|         0|              0.0|             0.0|           3.0|  (5,[0],[1.0])|(12,[0],[1.0])|(4,[3],[1.0])|\n",
      "|           0|24.21|      0|              0|     0|          0|  0|       0|               0|        6|     0|            0|         1|              1.0|             7.0|           1.0|  (5,[1],[1.0])|(12,[7],[1.0])|(4,[1],[1.0])|\n",
      "|           0|23.71|      0|              0|     0|          1|  0|       0|               1|        8|     0|            0|         0|              1.0|             9.0|           0.0|  (5,[1],[1.0])|(12,[9],[1.0])|(4,[0],[1.0])|\n",
      "|           0|21.63|      0|              0|     0|          0|  0|       0|               1|        4|     1|            0|         1|              1.0|             2.0|           3.0|  (5,[1],[1.0])|(12,[2],[1.0])|(4,[3],[1.0])|\n",
      "|           0|31.64|      1|              0|     0|          1|  0|       1|               0|        9|     1|            0|         0|              2.0|             5.0|           1.0|  (5,[2],[1.0])|(12,[5],[1.0])|(4,[1],[1.0])|\n",
      "|           0|26.45|      0|              0|     0|          0|  0|       0|               0|        5|     0|            1|         0|              0.0|             5.0|           3.0|  (5,[0],[1.0])|(12,[5],[1.0])|(4,[3],[1.0])|\n",
      "|           0|40.69|      0|              0|     0|          1|  1|       0|               1|       10|     0|            0|         0|              4.0|             0.0|           1.0|  (5,[4],[1.0])|(12,[0],[1.0])|(4,[1],[1.0])|\n",
      "|           0|28.71|      1|              0|     0|          0|  0|       0|               1|        5|     0|            0|         0|              0.0|             3.0|           0.0|  (5,[0],[1.0])|(12,[3],[1.0])|(4,[0],[1.0])|\n",
      "|           0|28.37|      1|              0|     0|          1|  1|       1|               1|        8|     0|            0|         0|              0.0|             7.0|           0.0|  (5,[0],[1.0])|(12,[7],[1.0])|(4,[0],[1.0])|\n",
      "|           0|28.15|      0|              0|     0|          1|  0|       0|               0|        7|     0|            0|         0|              0.0|             5.0|           1.0|  (5,[0],[1.0])|(12,[5],[1.0])|(4,[1],[1.0])|\n",
      "|           0|29.29|      1|              0|     0|          1|  0|       0|               0|        5|     0|            0|         0|              0.0|             1.0|           1.0|  (5,[0],[1.0])|(12,[1],[1.0])|(4,[1],[1.0])|\n",
      "|           0|29.18|      0|              0|     0|          0|  0|       0|               1|        6|     0|            0|         0|              0.0|             4.0|           0.0|  (5,[0],[1.0])|(12,[4],[1.0])|(4,[0],[1.0])|\n",
      "|           0|26.26|      0|              0|     0|          0|  0|       0|               0|       10|     0|            0|         0|              0.0|             2.0|           0.0|  (5,[0],[1.0])|(12,[2],[1.0])|(4,[0],[1.0])|\n",
      "|           0|22.59|      1|              0|     0|          1|  1|       0|               1|        8|     0|            0|         0|              1.0|             2.0|           1.0|  (5,[1],[1.0])|(12,[2],[1.0])|(4,[1],[1.0])|\n",
      "|           0|29.86|      1|              0|     0|          1|  0|       1|               0|        5|     0|            1|         0|              0.0|             7.0|           3.0|  (5,[0],[1.0])|(12,[7],[1.0])|(4,[3],[1.0])|\n",
      "|           0|18.13|      0|              0|     0|          0|  1|       0|               1|        8|     0|            0|         1|              5.0|             5.0|           2.0|      (5,[],[])|(12,[5],[1.0])|(4,[2],[1.0])|\n",
      "|           0|21.16|      0|              0|     0|          0|  0|       0|               0|        8|     0|            0|         0|              1.0|             5.0|           1.0|  (5,[1],[1.0])|(12,[5],[1.0])|(4,[1],[1.0])|\n",
      "|           0| 28.9|      0|              0|     0|          0|  0|       1|               0|        7|     0|            0|         0|              0.0|             2.0|           0.0|  (5,[0],[1.0])|(12,[2],[1.0])|(4,[0],[1.0])|\n",
      "+------------+-----+-------+---------------+------+-----------+---+--------+----------------+---------+------+-------------+----------+-----------------+----------------+--------------+---------------+--------------+-------------+\n",
      "only showing top 20 rows\n",
      "\n"
     ]
    }
   ],
   "source": [
    "from pyspark.sql import functions as F\n",
    "from pyspark.ml.feature import OneHotEncoder, StringIndexer\n",
    "from pyspark.ml import Pipeline\n",
    "\n",
    "binary_features = [\"HeartDisease\", \"AlcoholDrinking\", \"Stroke\", \"DiffWalking\", \"Smoking\", \"Diabetic\", \"PhysicalActivity\", \"Asthma\", \"KidneyDisease\", \"SkinCancer\"]\n",
    "\n",
    "for column in binary_features:\n",
    "    df = df.withColumn(column, F.when(df[column] == 'Yes', 1).otherwise(0))\n",
    "\n",
    "df = df.withColumn(\"Sex\", F.when(df[\"Sex\"] == \"Male\", 1).otherwise(0))\n",
    "\n",
    "df = df.withColumn(\"Diabetic\", F.when(df[\"Diabetic\"] == \"No, borderline diabetes\", 0).when(df[\"Diabetic\"] == \"Yes (during pregnancy)\", 1).otherwise(df[\"Diabetic\"]))\n",
    "\n",
    "indexer1 = StringIndexer(inputCol=\"BMI_Category\", outputCol=\"BMI_CategoryIndex\")\n",
    "indexer2 = StringIndexer(inputCol=\"AgeCategory\", outputCol=\"AgeCategoryIndex\")\n",
    "indexer3 = StringIndexer(inputCol=\"GenHealth\", outputCol=\"GenHealthIndex\")\n",
    "\n",
    "encoder1 = OneHotEncoder(inputCol=\"BMI_CategoryIndex\", outputCol=\"BMI_CategoryVec\")\n",
    "encoder2 = OneHotEncoder(inputCol=\"AgeCategoryIndex\", outputCol=\"AgeCategoryVec\")\n",
    "encoder3 = OneHotEncoder(inputCol=\"GenHealthIndex\", outputCol=\"GenHealthVec\")\n",
    "\n",
    "pipeline = Pipeline(stages=[indexer1, indexer2, indexer3, encoder1, encoder2, encoder3])\n",
    "\n",
    "model = pipeline.fit(df)\n",
    "df_transformed = model.transform(df)\n",
    "\n",
    "df = df_transformed.drop(\"BMI_Category\", \"AgeCategory\", \"GenHealth\")\n",
    "\n",
    "\n",
    "df.show()"
   ]
  },
  {
   "cell_type": "code",
   "execution_count": 31,
   "id": "fe2629da",
   "metadata": {},
   "outputs": [
    {
     "name": "stdout",
     "output_type": "stream",
     "text": [
      "root\n",
      " |-- HeartDisease: integer (nullable = false)\n",
      " |-- BMI: double (nullable = true)\n",
      " |-- Smoking: integer (nullable = false)\n",
      " |-- AlcoholDrinking: integer (nullable = false)\n",
      " |-- Stroke: integer (nullable = false)\n",
      " |-- DiffWalking: integer (nullable = false)\n",
      " |-- Sex: integer (nullable = false)\n",
      " |-- Diabetic: integer (nullable = false)\n",
      " |-- PhysicalActivity: integer (nullable = false)\n",
      " |-- SleepTime: integer (nullable = true)\n",
      " |-- Asthma: integer (nullable = false)\n",
      " |-- KidneyDisease: integer (nullable = false)\n",
      " |-- SkinCancer: integer (nullable = false)\n",
      " |-- BMI_CategoryIndex: double (nullable = false)\n",
      " |-- AgeCategoryIndex: double (nullable = false)\n",
      " |-- GenHealthIndex: double (nullable = false)\n",
      " |-- BMI_CategoryVec: vector (nullable = true)\n",
      " |-- AgeCategoryVec: vector (nullable = true)\n",
      " |-- GenHealthVec: vector (nullable = true)\n",
      "\n"
     ]
    }
   ],
   "source": [
    "df.printSchema()"
   ]
  },
  {
   "cell_type": "code",
   "execution_count": null,
   "id": "2e986e7f",
   "metadata": {},
   "outputs": [],
   "source": []
  },
  {
   "cell_type": "code",
   "execution_count": null,
   "id": "173ce73c",
   "metadata": {},
   "outputs": [],
   "source": []
  }
 ],
 "metadata": {
  "kernelspec": {
   "display_name": "Python 3 (ipykernel)",
   "language": "python",
   "name": "python3"
  },
  "language_info": {
   "codemirror_mode": {
    "name": "ipython",
    "version": 3
   },
   "file_extension": ".py",
   "mimetype": "text/x-python",
   "name": "python",
   "nbconvert_exporter": "python",
   "pygments_lexer": "ipython3",
   "version": "3.10.4"
  }
 },
 "nbformat": 4,
 "nbformat_minor": 5
}
