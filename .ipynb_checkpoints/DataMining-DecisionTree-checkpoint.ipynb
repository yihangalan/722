{
 "cells": [
  {
   "cell_type": "code",
   "execution_count": 1,
   "id": "d570c832",
   "metadata": {},
   "outputs": [
    {
     "name": "stderr",
     "output_type": "stream",
     "text": [
      "WARNING: An illegal reflective access operation has occurred\n",
      "WARNING: Illegal reflective access by org.apache.spark.unsafe.Platform (file:/home/ubuntu/.local/lib/python3.10/site-packages/pyspark/jars/spark-unsafe_2.12-3.2.1.jar) to constructor java.nio.DirectByteBuffer(long,int)\n",
      "WARNING: Please consider reporting this to the maintainers of org.apache.spark.unsafe.Platform\n",
      "WARNING: Use --illegal-access=warn to enable warnings of further illegal reflective access operations\n",
      "WARNING: All illegal access operations will be denied in a future release\n",
      "Using Spark's default log4j profile: org/apache/spark/log4j-defaults.properties\n",
      "Setting default log level to \"WARN\".\n",
      "To adjust logging level use sc.setLogLevel(newLevel). For SparkR, use setLogLevel(newLevel).\n",
      "23/10/09 10:53:31 WARN NativeCodeLoader: Unable to load native-hadoop library for your platform... using builtin-java classes where applicable\n",
      "                                                                                \r"
     ]
    },
    {
     "name": "stdout",
     "output_type": "stream",
     "text": [
      "+------------+-----+-------+---------------+------+-----------+---+--------+----------------+---------+------+-------------+----------+------------------+-----------------+---------------+\n",
      "|HeartDisease|  BMI|Smoking|AlcoholDrinking|Stroke|DiffWalking|Sex|Diabetic|PhysicalActivity|SleepTime|Asthma|KidneyDisease|SkinCancer|BMI_Category_Index|AgeCategory_Index|GenHealth_Index|\n",
      "+------------+-----+-------+---------------+------+-----------+---+--------+----------------+---------+------+-------------+----------+------------------+-----------------+---------------+\n",
      "|           0|26.45|      0|              0|     0|          0|  0|       0|               0|        5|     0|            1|         0|               0.0|              5.0|            3.0|\n",
      "|           0|29.86|      1|              0|     0|          1|  0|       1|               0|        5|     0|            1|         0|               0.0|              7.0|            3.0|\n",
      "|           0|21.16|      0|              0|     0|          0|  0|       0|               0|        8|     0|            0|         0|               1.0|              5.0|            1.0|\n",
      "|           0| 27.2|      1|              0|     1|          0|  1|       0|               0|        8|     0|            0|         1|               0.0|              5.0|            0.0|\n",
      "|           0|22.04|      0|              0|     0|          0|  1|       0|               1|        8|     0|            0|         0|               1.0|              0.0|            0.0|\n",
      "|           0|25.54|      1|              0|     1|          0|  1|       0|               0|        6|     1|            0|         0|               0.0|              5.0|            3.0|\n",
      "|           0|27.46|      1|              0|     0|          0|  0|       0|               0|        7|     0|            0|         0|               0.0|              7.0|            1.0|\n",
      "|           0|36.02|      0|              0|     0|          0|  0|       0|               1|        7|     0|            0|         0|               3.0|              2.0|            0.0|\n",
      "|           0| 24.8|      0|              0|     0|          0|  0|       0|               1|        8|     0|            0|         0|               1.0|              5.0|            2.0|\n",
      "|           0|27.98|      0|              0|     0|          0|  1|       0|               0|        3|     0|            0|         0|               0.0|              5.0|            2.0|\n",
      "|           0|26.22|      0|              0|     0|          0|  0|       0|               0|        7|     0|            0|         0|               0.0|              0.0|            0.0|\n",
      "|           0|20.94|      0|              0|     0|          0|  0|       0|               0|        6|     0|            0|         1|               1.0|              7.0|            4.0|\n",
      "|           0|28.89|      1|              0|     0|          0|  0|       1|               1|        6|     0|            0|         1|               0.0|              7.0|            1.0|\n",
      "|           0|23.67|      1|              0|     1|          0|  1|       0|               1|        9|     0|            0|         1|               1.0|              7.0|            0.0|\n",
      "|           0| 33.2|      0|              0|     0|          1|  1|       1|               0|        8|     0|            1|         0|               2.0|              4.0|            1.0|\n",
      "|           0|31.19|      0|              0|     0|          0|  1|       0|               1|        8|     0|            0|         0|               2.0|              9.0|            2.0|\n",
      "|           0|17.71|      0|              0|     0|          0|  0|       0|               1|        6|     0|            0|         0|               5.0|              0.0|            1.0|\n",
      "|           0|34.37|      0|              0|     0|          1|  0|       0|               1|        7|     0|            0|         0|               2.0|              7.0|            1.0|\n",
      "|           0| 28.5|      0|              0|     0|          0|  1|       0|               1|        7|     0|            0|         0|               0.0|              1.0|            1.0|\n",
      "|           0| 20.8|      1|              1|     0|          0|  0|       0|               1|        8|     0|            0|         1|               1.0|              5.0|            0.0|\n",
      "+------------+-----+-------+---------------+------+-----------+---+--------+----------------+---------+------+-------------+----------+------------------+-----------------+---------------+\n",
      "only showing top 20 rows\n",
      "\n"
     ]
    }
   ],
   "source": [
    "from pyspark.sql import SparkSession\n",
    "from pyspark.sql.functions import rand\n",
    "\n",
    "spark = SparkSession.builder.appName(\"dataSet\").getOrCreate()\n",
    "file = \"heart_2020_cleaned.csv\"\n",
    "df = spark.read.csv(file, header=True, inferSchema=True)\n",
    "\n",
    "columns_to_drop = [\"Race\", \"MentalHealth\", \"PhysicalHealth\"]\n",
    "df = df.drop(*columns_to_drop)\n",
    "\n",
    "from pyspark.sql.functions import stddev, mean, abs, col\n",
    "bmi_stats = df.select(mean(col(\"BMI\")).alias(\"mean_BMI\"), stddev(col(\"BMI\")).alias(\"stddev_BMI\")).first()\n",
    "mean_bmi = bmi_stats[\"mean_BMI\"]\n",
    "stddev_bmi = bmi_stats[\"stddev_BMI\"]\n",
    "sleep_time_stats = df.select(mean(col(\"SleepTime\")).alias(\"mean_SleepTime\"), stddev(col(\"SleepTime\")).alias(\"stddev_SleepTime\")).first()\n",
    "mean_sleep_time = sleep_time_stats[\"mean_SleepTime\"]\n",
    "stddev_sleep_time = sleep_time_stats[\"stddev_SleepTime\"]\n",
    "threshold = 3\n",
    "df = df.withColumn(\"z_score_BMI\", abs((col(\"BMI\") - mean_bmi) / stddev_bmi))\n",
    "df = df.withColumn(\"z_score_SleepTime\", abs((col(\"SleepTime\") - mean_sleep_time) / stddev_sleep_time))\n",
    "df = df.filter(col(\"z_score_BMI\") <= threshold)\n",
    "df = df.filter(col(\"z_score_SleepTime\") <= threshold)\n",
    "df = df.drop(\"z_score_BMI\", \"z_score_SleepTime\")\n",
    "\n",
    "df = df.dropna()\n",
    "\n",
    "from pyspark.sql import functions as F\n",
    "\n",
    "df = df.withColumn(\n",
    "    'BMI_Category',\n",
    "    F.when((df['BMI'] < 18.5), 'Low')\n",
    "    .when((df['BMI'] >= 18.5) & (df['BMI'] < 24.9), 'Normal')\n",
    "    .when((df['BMI'] >= 25.0) & (df['BMI'] < 29.9), 'Over')\n",
    "    .when((df['BMI'] >= 30.0) & (df['BMI'] < 34.9), 'ObeseI')\n",
    "    .when((df['BMI'] >= 35.0) & (df['BMI'] < 39.9), 'ObesityII')\n",
    "    .otherwise('ObesityIII')\n",
    ")\n",
    "from pyspark.sql import functions as F\n",
    "from pyspark.ml.feature import OneHotEncoder, StringIndexer\n",
    "from pyspark.ml import Pipeline\n",
    "\n",
    "binary_features = [\"HeartDisease\", \"AlcoholDrinking\", \"Stroke\", \"DiffWalking\", \"Smoking\", \"Diabetic\", \"PhysicalActivity\", \"Asthma\", \"KidneyDisease\", \"SkinCancer\"]\n",
    "\n",
    "for column in binary_features:\n",
    "    df = df.withColumn(column, F.when(df[column] == 'Yes', 1).otherwise(0))\n",
    "\n",
    "df = df.withColumn(\"Sex\", F.when(df[\"Sex\"] == \"Male\", 1).otherwise(0))\n",
    "\n",
    "df = df.withColumn(\"Diabetic\", F.when(df[\"Diabetic\"] == \"No, borderline diabetes\", 0).when(df[\"Diabetic\"] == \"Yes (during pregnancy)\", 1).otherwise(df[\"Diabetic\"]))\n",
    "\n",
    "\n",
    "string_indexer = StringIndexer(inputCol=\"BMI_Category\", outputCol=\"BMI_Category_Index\")\n",
    "model = string_indexer.fit(df)\n",
    "df = model.transform(df)\n",
    "\n",
    "string_indexer = StringIndexer(inputCol=\"AgeCategory\", outputCol=\"AgeCategory_Index\")\n",
    "model = string_indexer.fit(df)\n",
    "df = model.transform(df)\n",
    "\n",
    "string_indexer = StringIndexer(inputCol=\"GenHealth\", outputCol=\"GenHealth_Index\")\n",
    "model = string_indexer.fit(df)\n",
    "df = model.transform(df)\n",
    "\n",
    "columns_to_drop = [\"BMI_Category\", \"AgeCategory\", \"GenHealth\"]\n",
    "df = df.drop(*columns_to_drop)\n",
    "\n",
    "df_high = df.filter(df[\"HeartDisease\"] == 0)\n",
    "df_low = df.filter(df[\"HeartDisease\"] == 1)\n",
    "\n",
    "num_samples = df_low.count()\n",
    "\n",
    "df_high_sampled = df_high.sample(False, num_samples / df_high.count(), seed=42)\n",
    "\n",
    "df = df_high_sampled.union(df_low)\n",
    "\n",
    "df.show()"
   ]
  },
  {
   "cell_type": "code",
   "execution_count": 2,
   "id": "d1485d63",
   "metadata": {},
   "outputs": [
    {
     "name": "stdout",
     "output_type": "stream",
     "text": [
      "root\n",
      " |-- HeartDisease: integer (nullable = false)\n",
      " |-- BMI: double (nullable = true)\n",
      " |-- Smoking: integer (nullable = false)\n",
      " |-- AlcoholDrinking: integer (nullable = false)\n",
      " |-- Stroke: integer (nullable = false)\n",
      " |-- DiffWalking: integer (nullable = false)\n",
      " |-- Sex: integer (nullable = false)\n",
      " |-- Diabetic: integer (nullable = false)\n",
      " |-- PhysicalActivity: integer (nullable = false)\n",
      " |-- SleepTime: integer (nullable = true)\n",
      " |-- Asthma: integer (nullable = false)\n",
      " |-- KidneyDisease: integer (nullable = false)\n",
      " |-- SkinCancer: integer (nullable = false)\n",
      " |-- BMI_Category_Index: double (nullable = false)\n",
      " |-- AgeCategory_Index: double (nullable = false)\n",
      " |-- GenHealth_Index: double (nullable = false)\n",
      " |-- features: vector (nullable = true)\n",
      "\n"
     ]
    },
    {
     "name": "stderr",
     "output_type": "stream",
     "text": [
      "23/10/09 10:53:56 WARN package: Truncated the string representation of a plan since it was too large. This behavior can be adjusted by setting 'spark.sql.debug.maxToStringFields'.\n"
     ]
    },
    {
     "data": {
      "text/plain": [
       "[Row(HeartDisease=0, BMI=26.45, Smoking=0, AlcoholDrinking=0, Stroke=0, DiffWalking=0, Sex=0, Diabetic=0, PhysicalActivity=0, SleepTime=5, Asthma=0, KidneyDisease=1, SkinCancer=0, BMI_Category_Index=0.0, AgeCategory_Index=5.0, GenHealth_Index=3.0, features=SparseVector(15, {0: 26.45, 8: 5.0, 10: 1.0, 13: 5.0, 14: 3.0}))]"
      ]
     },
     "execution_count": 2,
     "metadata": {},
     "output_type": "execute_result"
    }
   ],
   "source": [
    "from pyspark.ml.feature import VectorAssembler\n",
    "\n",
    "feature_columns = [\"BMI\", \"Smoking\", \"AlcoholDrinking\", \"Stroke\", \"DiffWalking\", \n",
    "                   \"Sex\", \"Diabetic\", \"PhysicalActivity\", \"SleepTime\", \"Asthma\", \n",
    "                   \"KidneyDisease\", \"SkinCancer\", \"BMI_Category_Index\", \n",
    "                   \"AgeCategory_Index\", \"GenHealth_Index\"]\n",
    "\n",
    "assembler = VectorAssembler(inputCols=feature_columns, outputCol=\"features\")\n",
    "\n",
    "output = assembler.transform(df)\n",
    "\n",
    "output.printSchema()\n",
    "output.head(1)"
   ]
  },
  {
   "cell_type": "code",
   "execution_count": 3,
   "id": "c74a1495",
   "metadata": {},
   "outputs": [
    {
     "name": "stdout",
     "output_type": "stream",
     "text": [
      "+--------------------+------------+\n",
      "|            features|HeartDisease|\n",
      "+--------------------+------------+\n",
      "|(15,[0,8,10,13,14...|           0|\n",
      "|(15,[0,1,4,6,8,10...|           0|\n",
      "|(15,[0,8,12,13,14...|           0|\n",
      "|(15,[0,1,3,5,8,11...|           0|\n",
      "|(15,[0,5,7,8,12],...|           0|\n",
      "|(15,[0,1,3,5,8,9,...|           0|\n",
      "|(15,[0,1,8,13,14]...|           0|\n",
      "|(15,[0,7,8,12,13]...|           0|\n",
      "|(15,[0,7,8,12,13,...|           0|\n",
      "|(15,[0,5,8,13,14]...|           0|\n",
      "|(15,[0,8],[26.22,...|           0|\n",
      "|(15,[0,8,11,12,13...|           0|\n",
      "|(15,[0,1,6,7,8,11...|           0|\n",
      "|[23.67,1.0,0.0,1....|           0|\n",
      "|[33.2,0.0,0.0,0.0...|           0|\n",
      "|(15,[0,5,7,8,12,1...|           0|\n",
      "|(15,[0,7,8,12,14]...|           0|\n",
      "|(15,[0,4,7,8,12,1...|           0|\n",
      "|(15,[0,5,7,8,13,1...|           0|\n",
      "|(15,[0,1,2,7,8,11...|           0|\n",
      "+--------------------+------------+\n",
      "only showing top 20 rows\n",
      "\n"
     ]
    }
   ],
   "source": [
    "final_data = output.select(\"features\", \"HeartDisease\")\n",
    "final_data.show()"
   ]
  },
  {
   "cell_type": "code",
   "execution_count": 4,
   "id": "6b0262cc",
   "metadata": {},
   "outputs": [],
   "source": [
    "train_data, test_data = final_data.randomSplit([0.7, 0.3])\n"
   ]
  },
  {
   "cell_type": "code",
   "execution_count": 52,
   "id": "e7f715d8",
   "metadata": {},
   "outputs": [
    {
     "name": "stderr",
     "output_type": "stream",
     "text": [
      "[Stage 161:>                                                        (0 + 1) / 1]\r"
     ]
    },
    {
     "name": "stdout",
     "output_type": "stream",
     "text": [
      "+--------------------+------------+---------------+--------------------+----------+\n",
      "|            features|HeartDisease|  rawPrediction|         probability|prediction|\n",
      "+--------------------+------------+---------------+--------------------+----------+\n",
      "|(15,[0,1,2,3,7,8,...|           0|[3231.0,2698.0]|[0.54494855793557...|       0.0|\n",
      "|(15,[0,1,2,3,7,8,...|           0|   [39.0,166.0]|[0.19024390243902...|       1.0|\n",
      "|(15,[0,1,2,3,7,8,...|           0|[3231.0,2698.0]|[0.54494855793557...|       0.0|\n",
      "|(15,[0,1,2,4,5,7,...|           0|  [186.0,127.0]|[0.59424920127795...|       0.0|\n",
      "|(15,[0,1,2,4,5,8,...|           0|[3289.0,9249.0]|[0.26232253947998...|       1.0|\n",
      "|(15,[0,1,2,4,5,8,...|           0| [776.0,2232.0]|[0.25797872340425...|       1.0|\n",
      "|(15,[0,1,2,4,8,9,...|           0| [776.0,2232.0]|[0.25797872340425...|       1.0|\n",
      "|(15,[0,1,2,4,8,12...|           0| [776.0,2232.0]|[0.25797872340425...|       1.0|\n",
      "|(15,[0,1,2,5,7,8,...|           0|[8439.0,1431.0]|[0.85501519756838...|       0.0|\n",
      "|(15,[0,1,2,5,7,8,...|           0|[8439.0,1431.0]|[0.85501519756838...|       0.0|\n",
      "|(15,[0,1,2,5,7,8,...|           0|[8439.0,1431.0]|[0.85501519756838...|       0.0|\n",
      "|(15,[0,1,2,5,7,8,...|           0|[3231.0,2698.0]|[0.54494855793557...|       0.0|\n",
      "|(15,[0,1,2,5,7,8,...|           0|[8439.0,1431.0]|[0.85501519756838...|       0.0|\n",
      "|(15,[0,1,2,5,7,8,...|           0|[3231.0,2698.0]|[0.54494855793557...|       0.0|\n",
      "|(15,[0,1,2,5,7,8,...|           0|[3231.0,2698.0]|[0.54494855793557...|       0.0|\n",
      "|(15,[0,1,2,5,7,8,...|           0|[8439.0,1431.0]|[0.85501519756838...|       0.0|\n",
      "|(15,[0,1,2,5,7,8,...|           0|[8439.0,1431.0]|[0.85501519756838...|       0.0|\n",
      "|(15,[0,1,2,5,7,8,...|           0|[8439.0,1431.0]|[0.85501519756838...|       0.0|\n",
      "|(15,[0,1,2,5,7,8,...|           0|[3289.0,9249.0]|[0.26232253947998...|       1.0|\n",
      "|(15,[0,1,2,5,7,8,...|           0|[8439.0,1431.0]|[0.85501519756838...|       0.0|\n",
      "+--------------------+------------+---------------+--------------------+----------+\n",
      "only showing top 20 rows\n",
      "\n"
     ]
    },
    {
     "name": "stderr",
     "output_type": "stream",
     "text": [
      "[Stage 162:============================>                            (2 + 2) / 4]\r"
     ]
    },
    {
     "name": "stdout",
     "output_type": "stream",
     "text": [
      "AUC: 0.6872546309527037\n"
     ]
    },
    {
     "name": "stderr",
     "output_type": "stream",
     "text": [
      "\r",
      "                                                                                \r"
     ]
    }
   ],
   "source": [
    "from pyspark.ml.classification import DecisionTreeClassifier\n",
    "from pyspark.ml.evaluation import BinaryClassificationEvaluator\n",
    "\n",
    "# DecisionTreeClassifier Model\n",
    "dt = DecisionTreeClassifier(labelCol=\"HeartDisease\", featuresCol=\"features\")\n",
    "\n",
    "dt_model = dt.fit(train_data)\n",
    "\n",
    "predictions = dt_model.transform(test_data)\n",
    "\n",
    "predictions.show()\n",
    "\n",
    "evaluator = BinaryClassificationEvaluator(labelCol=\"HeartDisease\")\n",
    "auc = evaluator.evaluate(predictions)\n",
    "\n",
    "print(\"AUC:\", auc)\n"
   ]
  },
  {
   "cell_type": "code",
   "execution_count": 23,
   "id": "8f1f30c0",
   "metadata": {},
   "outputs": [
    {
     "name": "stdout",
     "output_type": "stream",
     "text": [
      "Defaulting to user installation because normal site-packages is not writeable\n",
      "Collecting scikit-learn\n",
      "  Downloading scikit_learn-1.3.1-cp310-cp310-manylinux_2_17_x86_64.manylinux2014_x86_64.whl (10.8 MB)\n",
      "\u001b[2K     \u001b[90m━━━━━━━━━━━━━━━━━━━━━━━━━━━━━━━━━━━━━━━━\u001b[0m \u001b[32m10.8/10.8 MB\u001b[0m \u001b[31m60.6 MB/s\u001b[0m eta \u001b[36m0:00:00\u001b[0m00:01\u001b[0m0:01\u001b[0m\n",
      "\u001b[?25hRequirement already satisfied: scipy>=1.5.0 in /home/ubuntu/.local/lib/python3.10/site-packages (from scikit-learn) (1.8.1)\n",
      "Collecting joblib>=1.1.1\n",
      "  Downloading joblib-1.3.2-py3-none-any.whl (302 kB)\n",
      "\u001b[2K     \u001b[90m━━━━━━━━━━━━━━━━━━━━━━━━━━━━━━━━━━━━━━\u001b[0m \u001b[32m302.2/302.2 KB\u001b[0m \u001b[31m33.8 MB/s\u001b[0m eta \u001b[36m0:00:00\u001b[0m\n",
      "\u001b[?25hRequirement already satisfied: numpy<2.0,>=1.17.3 in /home/ubuntu/.local/lib/python3.10/site-packages (from scikit-learn) (1.22.4)\n",
      "Collecting threadpoolctl>=2.0.0\n",
      "  Downloading threadpoolctl-3.2.0-py3-none-any.whl (15 kB)\n",
      "Installing collected packages: threadpoolctl, joblib, scikit-learn\n",
      "Successfully installed joblib-1.3.2 scikit-learn-1.3.1 threadpoolctl-3.2.0\n"
     ]
    }
   ],
   "source": [
    "!pip install scikit-learn\n"
   ]
  },
  {
   "cell_type": "code",
   "execution_count": 18,
   "id": "9ce41065",
   "metadata": {},
   "outputs": [
    {
     "name": "stderr",
     "output_type": "stream",
     "text": [
      "                                                                                \r"
     ]
    },
    {
     "data": {
      "image/png": "[encoded data removed]",
      "text/plain": [
       "<Figure size 576x432 with 1 Axes>"
      ]
     },
     "metadata": {
      "needs_background": "light"
     },
     "output_type": "display_data"
    }
   ],
   "source": [
    "import numpy as np\n",
    "import matplotlib.pyplot as plt\n",
    "from sklearn.metrics import roc_curve, auc\n",
    "\n",
    "y_true = predictions.select(\"HeartDisease\").rdd.flatMap(lambda x: x).collect()\n",
    "y_prob = predictions.select(\"probability\").rdd.map(lambda x: float(x[0][1])).collect()\n",
    "\n",
    "fpr, tpr, thresholds = roc_curve(y_true, y_prob)\n",
    "roc_auc = auc(fpr, tpr)\n",
    "\n",
    "plt.figure(figsize=(8, 6))\n",
    "plt.plot(fpr, tpr, color='darkorange', lw=2, label='ROC curve (area = %0.2f)' % roc_auc)\n",
    "plt.plot([0, 1], [0, 1], color='navy', lw=2, linestyle='--')\n",
    "plt.xlim([0.0, 1.0])\n",
    "plt.ylim([0.0, 1.05])\n",
    "plt.xlabel('False Positive Rate')\n",
    "plt.ylabel('True Positive Rate')\n",
    "plt.title('ROC Curve')\n",
    "plt.legend(loc='lower right')\n",
    "plt.show()\n"
   ]
  },
  {
   "cell_type": "code",
   "execution_count": 12,
   "id": "3ac3877a",
   "metadata": {},
   "outputs": [
    {
     "name": "stdout",
     "output_type": "stream",
     "text": [
      "{Param(parent='DecisionTreeClassifier_546febf9ae2e', name='cacheNodeIds', doc='If false, the algorithm will pass trees to executors to match instances with nodes. If true, the algorithm will cache node IDs for each instance. Caching can speed up training of deeper trees. Users can set how often should the cache be checkpointed or disable it by setting checkpointInterval.'): False, Param(parent='DecisionTreeClassifier_546febf9ae2e', name='checkpointInterval', doc='set checkpoint interval (>= 1) or disable checkpoint (-1). E.g. 10 means that the cache will get checkpointed every 10 iterations. Note: this setting will be ignored if the checkpoint directory is not set in the SparkContext.'): 10, Param(parent='DecisionTreeClassifier_546febf9ae2e', name='featuresCol', doc='features column name.'): 'features', Param(parent='DecisionTreeClassifier_546febf9ae2e', name='impurity', doc='Criterion used for information gain calculation (case-insensitive). Supported options: entropy, gini'): 'gini', Param(parent='DecisionTreeClassifier_546febf9ae2e', name='labelCol', doc='label column name.'): 'HeartDisease', Param(parent='DecisionTreeClassifier_546febf9ae2e', name='leafCol', doc='Leaf indices column name. Predicted leaf index of each instance in each tree by preorder.'): '', Param(parent='DecisionTreeClassifier_546febf9ae2e', name='maxBins', doc='Max number of bins for discretizing continuous features.  Must be >=2 and >= number of categories for any categorical feature.'): 32, Param(parent='DecisionTreeClassifier_546febf9ae2e', name='maxDepth', doc='Maximum depth of the tree. (>= 0) E.g., depth 0 means 1 leaf node; depth 1 means 1 internal node + 2 leaf nodes. Must be in range [0, 30].'): 5, Param(parent='DecisionTreeClassifier_546febf9ae2e', name='maxMemoryInMB', doc='Maximum memory in MB allocated to histogram aggregation. If too small, then 1 node will be split per iteration, and its aggregates may exceed this size.'): 256, Param(parent='DecisionTreeClassifier_546febf9ae2e', name='minInfoGain', doc='Minimum information gain for a split to be considered at a tree node.'): 0.0, Param(parent='DecisionTreeClassifier_546febf9ae2e', name='minInstancesPerNode', doc='Minimum number of instances each child must have after split. If a split causes the left or right child to have fewer than minInstancesPerNode, the split will be discarded as invalid. Should be >= 1.'): 1, Param(parent='DecisionTreeClassifier_546febf9ae2e', name='minWeightFractionPerNode', doc='Minimum fraction of the weighted sample count that each child must have after split. If a split causes the fraction of the total weight in the left or right child to be less than minWeightFractionPerNode, the split will be discarded as invalid. Should be in interval [0.0, 0.5).'): 0.0, Param(parent='DecisionTreeClassifier_546febf9ae2e', name='predictionCol', doc='prediction column name.'): 'prediction', Param(parent='DecisionTreeClassifier_546febf9ae2e', name='probabilityCol', doc='Column name for predicted class conditional probabilities. Note: Not all models output well-calibrated probability estimates! These probabilities should be treated as confidences, not precise probabilities.'): 'probability', Param(parent='DecisionTreeClassifier_546febf9ae2e', name='rawPredictionCol', doc='raw prediction (a.k.a. confidence) column name.'): 'rawPrediction', Param(parent='DecisionTreeClassifier_546febf9ae2e', name='seed', doc='random seed.'): -1708849029823407289}\n"
     ]
    }
   ],
   "source": [
    "param_map = dt_model.extractParamMap()\n",
    "print(param_map)"
   ]
  },
  {
   "cell_type": "code",
   "execution_count": 17,
   "id": "c12913a7",
   "metadata": {},
   "outputs": [
    {
     "name": "stderr",
     "output_type": "stream",
     "text": [
      "                                                                                \r"
     ]
    },
    {
     "name": "stdout",
     "output_type": "stream",
     "text": [
      "AUC: 0.6872546309527037\n"
     ]
    },
    {
     "name": "stderr",
     "output_type": "stream",
     "text": [
      "                                                                                \r"
     ]
    },
    {
     "name": "stdout",
     "output_type": "stream",
     "text": [
      "Accuracy: 0.7272266244057052\n"
     ]
    },
    {
     "name": "stderr",
     "output_type": "stream",
     "text": [
      "[Stage 68:=============================>                            (2 + 2) / 4]\r"
     ]
    },
    {
     "name": "stdout",
     "output_type": "stream",
     "text": [
      "Recall: 0.7272266244057053\n"
     ]
    },
    {
     "name": "stderr",
     "output_type": "stream",
     "text": [
      "\r",
      "                                                                                \r"
     ]
    }
   ],
   "source": [
    "from pyspark.ml.evaluation import MulticlassClassificationEvaluator, BinaryClassificationEvaluator\n",
    "\n",
    "predictions = dt_model.transform(test_data)\n",
    "\n",
    "binary_evaluator = BinaryClassificationEvaluator(labelCol=\"HeartDisease\", metricName=\"areaUnderROC\")\n",
    "\n",
    "auc = binary_evaluator.evaluate(predictions)\n",
    "print(\"AUC: \" + str(auc))\n",
    "\n",
    "multiclass_evaluator = MulticlassClassificationEvaluator(labelCol=\"HeartDisease\", metricName=\"accuracy\")\n",
    "\n",
    "accuracy = multiclass_evaluator.evaluate(predictions)\n",
    "print(\"Accuracy: \" + str(accuracy))\n",
    "\n",
    "recall = multiclass_evaluator.evaluate(predictions, {multiclass_evaluator.metricName: \"weightedRecall\"})\n",
    "print(\"Recall: \" + str(recall))\n"
   ]
  },
  {
   "cell_type": "code",
   "execution_count": 15,
   "id": "a4e79269",
   "metadata": {},
   "outputs": [
    {
     "name": "stdout",
     "output_type": "stream",
     "text": [
      "Decision Tree Structure:\n",
      "DecisionTreeClassificationModel: uid=DecisionTreeClassifier_546febf9ae2e, depth=5, numNodes=33, numClasses=2, numFeatures=15\n",
      "  If (feature 13 in {4.0,6.0,8.0,9.0,10.0,11.0,12.0})\n",
      "   If (feature 4 <= 0.5)\n",
      "    If (feature 3 <= 0.5)\n",
      "     Predict: 0.0\n",
      "    Else (feature 3 > 0.5)\n",
      "     Predict: 1.0\n",
      "   Else (feature 4 > 0.5)\n",
      "    If (feature 3 <= 0.5)\n",
      "     If (feature 14 in {0.0,1.0,2.0})\n",
      "      Predict: 0.0\n",
      "     Else (feature 14 not in {0.0,1.0,2.0})\n",
      "      If (feature 13 in {8.0,9.0,10.0,11.0,12.0})\n",
      "       Predict: 0.0\n",
      "      Else (feature 13 not in {8.0,9.0,10.0,11.0,12.0})\n",
      "       Predict: 1.0\n",
      "    Else (feature 3 > 0.5)\n",
      "     Predict: 1.0\n",
      "  Else (feature 13 not in {4.0,6.0,8.0,9.0,10.0,11.0,12.0})\n",
      "   If (feature 14 in {2.0})\n",
      "    If (feature 13 in {0.0,1.0,2.0,3.0,7.0})\n",
      "     If (feature 5 <= 0.5)\n",
      "      If (feature 3 <= 0.5)\n",
      "       Predict: 0.0\n",
      "      Else (feature 3 > 0.5)\n",
      "       Predict: 1.0\n",
      "     Else (feature 5 > 0.5)\n",
      "      If (feature 6 <= 0.5)\n",
      "       Predict: 0.0\n",
      "      Else (feature 6 > 0.5)\n",
      "       Predict: 1.0\n",
      "    Else (feature 13 not in {0.0,1.0,2.0,3.0,7.0})\n",
      "     If (feature 3 <= 0.5)\n",
      "      If (feature 5 <= 0.5)\n",
      "       Predict: 0.0\n",
      "      Else (feature 5 > 0.5)\n",
      "       Predict: 1.0\n",
      "     Else (feature 3 > 0.5)\n",
      "      Predict: 1.0\n",
      "   Else (feature 14 not in {2.0})\n",
      "    If (feature 13 in {0.0,1.0,3.0})\n",
      "     If (feature 4 <= 0.5)\n",
      "      If (feature 14 in {3.0,4.0})\n",
      "       Predict: 1.0\n",
      "      Else (feature 14 not in {3.0,4.0})\n",
      "       Predict: 0.0\n",
      "     Else (feature 4 > 0.5)\n",
      "      Predict: 1.0\n",
      "    Else (feature 13 not in {0.0,1.0,3.0})\n",
      "     Predict: 1.0\n",
      "\n"
     ]
    }
   ],
   "source": [
    "tree_structure = dt_model.toDebugString\n",
    "print(\"Decision Tree Structure:\\n\" + tree_structure)"
   ]
  },
  {
   "cell_type": "code",
   "execution_count": 16,
   "id": "44d21924",
   "metadata": {},
   "outputs": [
    {
     "name": "stdout",
     "output_type": "stream",
     "text": [
      "Feature Importances: (15,[3,4,5,6,13,14],[0.05045544964539487,0.12002734473621578,0.011929141659337592,0.0063615012548249,0.6617432322075275,0.1494833304966994])\n"
     ]
    }
   ],
   "source": [
    "feature_importances = dt_model.featureImportances\n",
    "print(\"Feature Importances: \" + str(feature_importances))"
   ]
  },
  {
   "cell_type": "code",
   "execution_count": 36,
   "id": "a73bad64",
   "metadata": {},
   "outputs": [
    {
     "data": {
      "image/png": "[encoded data removed]",
      "text/plain": [
       "<Figure size 720x432 with 1 Axes>"
      ]
     },
     "metadata": {
      "needs_background": "light"
     },
     "output_type": "display_data"
    }
   ],
   "source": [
    "import matplotlib.pyplot as plt\n",
    "import numpy as np\n",
    "\n",
    "indices = [3, 4, 5, 6, 13, 14]  \n",
    "importance_values = [0.05045544964539487, 0.12002734473621578, 0.011929141659337592, 0.0063615012548249, 0.6617432322075275, 0.1494833304966994]\n",
    "feature_columns = [\"BMI\", \"Smoking\", \"AlcoholDrinking\", \"Stroke\", \"DiffWalking\", \n",
    "                   \"Sex\", \"Diabetic\", \"PhysicalActivity\", \"SleepTime\", \"Asthma\", \n",
    "                   \"KidneyDisease\", \"SkinCancer\", \"BMI_Category_Index\", \n",
    "                   \"AgeCategory_Index\", \"GenHealth_Index\"]\n",
    "\n",
    "feature_names = [feature_columns[i] for i in indices]\n",
    "\n",
    "plt.figure(figsize=(10, 6))\n",
    "plt.barh(feature_names, importance_values)\n",
    "plt.xlabel('Feature Importance')\n",
    "plt.ylabel('Feature')\n",
    "plt.title('Feature Importance Ranking')\n",
    "plt.gca().invert_yaxis() \n",
    "plt.show()\n"
   ]
  },
  {
   "cell_type": "code",
   "execution_count": 55,
   "id": "4622d7fa",
   "metadata": {},
   "outputs": [
    {
     "name": "stderr",
     "output_type": "stream",
     "text": [
      "[Stage 184:============================>                            (2 + 2) / 4]\r"
     ]
    },
    {
     "name": "stdout",
     "output_type": "stream",
     "text": [
      "Accuracy: 0.72713\n"
     ]
    },
    {
     "name": "stderr",
     "output_type": "stream",
     "text": [
      "\r",
      "                                                                                \r"
     ]
    }
   ],
   "source": [
    "from pyspark.ml.evaluation import BinaryClassificationEvaluator\n",
    "\n",
    "evaluator = BinaryClassificationEvaluator(labelCol=\"HeartDisease\", rawPredictionCol=\"prediction\", metricName=\"areaUnderROC\")\n",
    "\n",
    "auc = evaluator.evaluate(predictions)\n",
    "\n",
    "print(\"Accuracy: {:.5}\".format(auc))\n"
   ]
  },
  {
   "cell_type": "code",
   "execution_count": null,
   "id": "70ecf461",
   "metadata": {},
   "outputs": [],
   "source": []
  },
  {
   "cell_type": "code",
   "execution_count": null,
   "id": "04d2d8e8",
   "metadata": {},
   "outputs": [],
   "source": []
  }
 ],
 "metadata": {
  "kernelspec": {
   "display_name": "Python 3 (ipykernel)",
   "language": "python",
   "name": "python3"
  },
  "language_info": {
   "codemirror_mode": {
    "name": "ipython",
    "version": 3
   },
   "file_extension": ".py",
   "mimetype": "text/x-python",
   "name": "python",
   "nbconvert_exporter": "python",
   "pygments_lexer": "ipython3",
   "version": "3.10.4"
  }
 },
 "nbformat": 4,
 "nbformat_minor": 5
}
